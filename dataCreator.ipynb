{
 "cells": [
  {
   "cell_type": "code",
   "execution_count": null,
   "id": "07ae13a8",
   "metadata": {},
   "outputs": [
    {
     "name": "stdout",
     "output_type": "stream",
     "text": [
      "Running video inference on ['/fs/nexus-scratch/hwahed/dlcDatasetMaker/testVideo/horseVid.mp4'] with superanimal_quadruped_resnet_50.pt\n"
     ]
    },
    {
     "ename": "KeyError",
     "evalue": "'resnet_50.pt'",
     "output_type": "error",
     "traceback": [
      "\u001b[0;31m---------------------------------------------------------------------------\u001b[0m",
      "\u001b[0;31mKeyError\u001b[0m                                  Traceback (most recent call last)",
      "Cell \u001b[0;32mIn[4], line 5\u001b[0m\n\u001b[1;32m      2\u001b[0m video_path \u001b[38;5;241m=\u001b[39m \u001b[38;5;124m\"\u001b[39m\u001b[38;5;124m/fs/nexus-scratch/hwahed/dlcDatasetMaker/testVideo/horseVid.mp4\u001b[39m\u001b[38;5;124m\"\u001b[39m\n\u001b[1;32m      3\u001b[0m superanimal_name \u001b[38;5;241m=\u001b[39m \u001b[38;5;124m\"\u001b[39m\u001b[38;5;124msuperanimal_quadruped\u001b[39m\u001b[38;5;124m\"\u001b[39m\n\u001b[0;32m----> 5\u001b[0m \u001b[43mdeeplabcut\u001b[49m\u001b[38;5;241;43m.\u001b[39;49m\u001b[43mvideo_inference_superanimal\u001b[49m\u001b[43m(\u001b[49m\u001b[43m[\u001b[49m\u001b[43mvideo_path\u001b[49m\u001b[43m]\u001b[49m\u001b[43m,\u001b[49m\n\u001b[1;32m      6\u001b[0m \u001b[43m                                        \u001b[49m\u001b[43msuperanimal_name\u001b[49m\u001b[43m,\u001b[49m\n\u001b[1;32m      7\u001b[0m \u001b[43m                                        \u001b[49m\u001b[43mmodel_name\u001b[49m\u001b[38;5;241;43m=\u001b[39;49m\u001b[38;5;124;43m\"\u001b[39;49m\u001b[38;5;124;43mresnet_50.pt\u001b[39;49m\u001b[38;5;124;43m\"\u001b[39;49m\u001b[43m,\u001b[49m\n\u001b[1;32m      8\u001b[0m \u001b[43m                                        \u001b[49m\u001b[43mdetector_name\u001b[49m\u001b[38;5;241;43m=\u001b[39;49m\u001b[38;5;124;43m\"\u001b[39;49m\u001b[38;5;124;43mfasterrcnn_resnet50_fpn_v2\u001b[39;49m\u001b[38;5;124;43m\"\u001b[39;49m\u001b[43m,\u001b[49m\n\u001b[1;32m      9\u001b[0m \u001b[43m                                        \u001b[49m\u001b[43mvideo_adapt\u001b[49m\u001b[43m \u001b[49m\u001b[38;5;241;43m=\u001b[39;49m\u001b[43m \u001b[49m\u001b[38;5;28;43;01mFalse\u001b[39;49;00m\u001b[43m)\u001b[49m\n",
      "File \u001b[0;32m/fs/nexus-scratch/hwahed/miniconda3/envs/DEEPLABCUT/lib/python3.10/site-packages/deeplabcut/modelzoo/video_inference.py:279\u001b[0m, in \u001b[0;36mvideo_inference_superanimal\u001b[0;34m(videos, superanimal_name, model_name, detector_name, scale_list, videotype, dest_folder, cropping, video_adapt, plot_trajectories, batch_size, detector_batch_size, pcutoff, adapt_iterations, pseudo_threshold, bbox_threshold, detector_epochs, pose_epochs, max_individuals, video_adapt_batch_size, device, customized_pose_checkpoint, customized_detector_checkpoint, customized_model_config, plot_bboxes)\u001b[0m\n\u001b[1;32m    275\u001b[0m modelzoo_path \u001b[38;5;241m=\u001b[39m os\u001b[38;5;241m.\u001b[39mpath\u001b[38;5;241m.\u001b[39mjoin(dlc_root_path, \u001b[38;5;124m\"\u001b[39m\u001b[38;5;124mmodelzoo\u001b[39m\u001b[38;5;124m\"\u001b[39m)\n\u001b[1;32m    276\u001b[0m available_architectures \u001b[38;5;241m=\u001b[39m json\u001b[38;5;241m.\u001b[39mload(\n\u001b[1;32m    277\u001b[0m     \u001b[38;5;28mopen\u001b[39m(os\u001b[38;5;241m.\u001b[39mpath\u001b[38;5;241m.\u001b[39mjoin(modelzoo_path, \u001b[38;5;124m\"\u001b[39m\u001b[38;5;124mmodels_to_framework.json\u001b[39m\u001b[38;5;124m\"\u001b[39m), \u001b[38;5;124m\"\u001b[39m\u001b[38;5;124mr\u001b[39m\u001b[38;5;124m\"\u001b[39m)\n\u001b[1;32m    278\u001b[0m )\n\u001b[0;32m--> 279\u001b[0m framework \u001b[38;5;241m=\u001b[39m \u001b[43mavailable_architectures\u001b[49m\u001b[43m[\u001b[49m\u001b[43mmodel_name\u001b[49m\u001b[43m]\u001b[49m\n\u001b[1;32m    280\u001b[0m \u001b[38;5;28mprint\u001b[39m(\u001b[38;5;124mf\u001b[39m\u001b[38;5;124m\"\u001b[39m\u001b[38;5;124mUsing \u001b[39m\u001b[38;5;132;01m{\u001b[39;00mframework\u001b[38;5;132;01m}\u001b[39;00m\u001b[38;5;124m for model \u001b[39m\u001b[38;5;132;01m{\u001b[39;00mmodel_name\u001b[38;5;132;01m}\u001b[39;00m\u001b[38;5;124m\"\u001b[39m)\n\u001b[1;32m    281\u001b[0m \u001b[38;5;28;01mif\u001b[39;00m framework \u001b[38;5;241m==\u001b[39m \u001b[38;5;124m\"\u001b[39m\u001b[38;5;124mtensorflow\u001b[39m\u001b[38;5;124m\"\u001b[39m:\n",
      "\u001b[0;31mKeyError\u001b[0m: 'resnet_50.pt'"
     ]
    }
   ],
   "source": [
    "import deeplabcut\n",
    "video_path = \"/fs/nexus-scratch/hwahed/dlcDatasetMaker/testVideo/horseVid.mp4\"\n",
    "superanimal_name = \"superanimal_quadruped\"\n",
    "\n",
    "deeplabcut.video_inference_superanimal([video_path],\n",
    "                                        superanimal_name,\n",
    "                                        model_name=\"resnet_50\",\n",
    "                                        detector_name=\"fasterrcnn_resnet50_fpn_v2\",\n",
    "                                        video_adapt = False)"
   ]
  }
 ],
 "metadata": {
  "kernelspec": {
   "display_name": "Python [conda env:DEEPLABCUT] *",
   "language": "python",
   "name": "conda-env-DEEPLABCUT-py"
  },
  "language_info": {
   "codemirror_mode": {
    "name": "ipython",
    "version": 3
   },
   "file_extension": ".py",
   "mimetype": "text/x-python",
   "name": "python",
   "nbconvert_exporter": "python",
   "pygments_lexer": "ipython3",
   "version": "3.10.17"
  }
 },
 "nbformat": 4,
 "nbformat_minor": 5
}
