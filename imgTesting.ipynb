{
 "cells": [
  {
   "cell_type": "code",
   "execution_count": 2,
   "id": "f8761c91",
   "metadata": {},
   "outputs": [
    {
     "name": "stdout",
     "output_type": "stream",
     "text": [
      "Saved: /fs/nexus-scratch/hwahed/dlcDatasetMaker/dataset/visualized/000015_joints.jpg\n",
      "Saved: /fs/nexus-scratch/hwahed/dlcDatasetMaker/dataset/visualized/000030_joints.jpg\n",
      "Saved: /fs/nexus-scratch/hwahed/dlcDatasetMaker/dataset/visualized/000060_joints.jpg\n",
      "Saved: /fs/nexus-scratch/hwahed/dlcDatasetMaker/dataset/visualized/000075_joints.jpg\n",
      "Saved: /fs/nexus-scratch/hwahed/dlcDatasetMaker/dataset/visualized/000045_joints.jpg\n"
     ]
    }
   ],
   "source": [
    "import os\n",
    "import cv2\n",
    "import glob\n",
    "\n",
    "# Set these paths as needed\n",
    "DATASET_BASE = \"/fs/nexus-scratch/hwahed/dlcDatasetMaker/dataset\"\n",
    "IMAGE_DIRS = [os.path.join(DATASET_BASE, \"train/images\"), os.path.join(DATASET_BASE, \"valid/images\")]\n",
    "LABEL_DIRS = [os.path.join(DATASET_BASE, \"train/labels\"), os.path.join(DATASET_BASE, \"valid/labels\")]\n",
    "OUTPUT_DIR = os.path.join(DATASET_BASE, \"visualized\")\n",
    "os.makedirs(OUTPUT_DIR, exist_ok=True)\n",
    "\n",
    "# Number of keypoints (change if needed)\n",
    "NUM_KEYPOINTS = 17 + 20  # e.g., 17 human + 20 horse, adjust to your setup\n",
    "\n",
    "def draw_joints_on_image(img, keypoints, color=(0, 0, 255)):\n",
    "    for x, y, v in keypoints:\n",
    "        if v > 0:  # Only plot visible/labeled keypoints\n",
    "            cv2.circle(img, (int(x), int(y)), 4, color, -1)\n",
    "    return img\n",
    "\n",
    "for img_dir, label_dir in zip(IMAGE_DIRS, LABEL_DIRS):\n",
    "    for img_path in glob.glob(os.path.join(img_dir, \"*.jpg\")):\n",
    "        base = os.path.splitext(os.path.basename(img_path))[0]\n",
    "        label_path = os.path.join(label_dir, base + \".txt\")\n",
    "        if not os.path.exists(label_path):\n",
    "            continue\n",
    "\n",
    "        img = cv2.imread(img_path)\n",
    "        h, w = img.shape[:2]\n",
    "\n",
    "        with open(label_path, \"r\") as f:\n",
    "            line = f.readline().strip().split()\n",
    "            # Skip class and bbox (first 5 entries)\n",
    "            kpt_entries = line[5:]\n",
    "            keypoints = []\n",
    "            for i in range(0, len(kpt_entries), 3):\n",
    "                if i+2 >= len(kpt_entries): break\n",
    "                x = float(kpt_entries[i]) * w\n",
    "                y = float(kpt_entries[i+1]) * h\n",
    "                v = float(kpt_entries[i+2])\n",
    "                keypoints.append((x, y, v))\n",
    "\n",
    "        img = draw_joints_on_image(img, keypoints)\n",
    "        out_path = os.path.join(OUTPUT_DIR, base + \"_joints.jpg\")\n",
    "        cv2.imwrite(out_path, img)\n",
    "        print(f\"Saved: {out_path}\")"
   ]
  }
 ],
 "metadata": {
  "kernelspec": {
   "display_name": "DEEPLABCUT",
   "language": "python",
   "name": "python3"
  },
  "language_info": {
   "codemirror_mode": {
    "name": "ipython",
    "version": 3
   },
   "file_extension": ".py",
   "mimetype": "text/x-python",
   "name": "python",
   "nbconvert_exporter": "python",
   "pygments_lexer": "ipython3",
   "version": "3.10.17"
  }
 },
 "nbformat": 4,
 "nbformat_minor": 5
}
